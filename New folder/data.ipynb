{
 "cells": [
  {
   "cell_type": "code",
   "execution_count": 3,
   "metadata": {},
   "outputs": [
    {
     "name": "stdout",
     "output_type": "stream",
     "text": [
      "    a   b   c   d\n",
      "0   1  23   4   5\n",
      "1   3  34  43  43\n",
      "2  23  45   5  56\n",
      "3  23   5   6   7\n"
     ]
    }
   ],
   "source": [
    "import pandas as pd\n",
    "import numpy as np\n",
    "data=pd.read_csv('SuperStoreOrders.csv')\n",
    "data.head(10)\n",
    "\n",
    "# lists1  = [ chr(i) for i in range(65,70)]\n",
    "# lists1\n",
    "# s1 = pd.Series(data = lists1,index = [65,66])\n",
    "\n",
    "\n",
    "\n",
    "md_list = [[1,23,4,5],[3,34,43,43],[23,45,5,56],[23,5,6,7]]\n",
    "md_array = np.array(md_list)\n",
    "df1 = pd.DataFrame(data = md_array, columns = ['a','b','c','d'])\n",
    "print(df1)\n",
    "\n",
    "\n",
    "s1 ={'prince':'pass',\n",
    "     'hariom':'passs',\n",
    "     'jeet':\"passssss\"\n",
    "     }\n",
    "\n"
   ]
  },
  {
   "cell_type": "code",
   "execution_count": null,
   "metadata": {},
   "outputs": [],
   "source": []
  }
 ],
 "metadata": {
  "kernelspec": {
   "display_name": "base",
   "language": "python",
   "name": "python3"
  },
  "language_info": {
   "codemirror_mode": {
    "name": "ipython",
    "version": 3
   },
   "file_extension": ".py",
   "mimetype": "text/x-python",
   "name": "python",
   "nbconvert_exporter": "python",
   "pygments_lexer": "ipython3",
   "version": "3.11.4"
  },
  "orig_nbformat": 4
 },
 "nbformat": 4,
 "nbformat_minor": 2
}
